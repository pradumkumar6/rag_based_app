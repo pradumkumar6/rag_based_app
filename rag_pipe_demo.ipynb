{
 "cells": [
  {
   "cell_type": "code",
   "execution_count": null,
   "id": "5550dd61",
   "metadata": {},
   "outputs": [],
   "source": [
    "# Using requests library for embeddings\n",
    "import requests\n",
    "import numpy as np\n",
    "\n",
    "def generate_embeddings():\n",
    "    url = \"https://api.euron.one/api/v1/euri/alpha/embeddings\"\n",
    "    headers = {\n",
    "        \"Content-Type\": \"application/json\",\n",
    "        \"Authorization\": \"Bearer **************\"\n",
    "    }\n",
    "    payload = {\n",
    "        \"input\": \"The food was delicious and the service was excellent.\",\n",
    "        \"model\": \"text-embedding-3-small\"\n",
    "    }\n",
    "\n",
    "    response = requests.post(url, headers=headers, json=payload)\n",
    "    data = response.json()\n",
    "    \n",
    "    # Convert to numpy array for vector operations\n",
    "    embedding = np.array(data['data'][0]['embedding'])\n",
    "    \n",
    "    print(f\"Generated embedding with shape: {embedding.shape}\")\n",
    "    print(f\"First 5 values: {embedding[:5]}\")\n",
    "    \n",
    "    # Example: Calculate vector norm\n",
    "    norm = np.linalg.norm(embedding)\n",
    "    print(f\"Vector norm: {norm}\")\n",
    "    \n",
    "    return embedding\n"
   ]
  },
  {
   "cell_type": "code",
   "execution_count": 2,
   "id": "b7d7b1d1",
   "metadata": {},
   "outputs": [
    {
     "name": "stdout",
     "output_type": "stream",
     "text": [
      "Generated embedding with shape: (1536,)\n",
      "First 5 values: [-0.03244253 -0.00839565 -0.06356495 -0.04268333  0.04704366]\n",
      "Vector norm: 1.0000000296607552\n"
     ]
    },
    {
     "data": {
      "text/plain": [
       "array([-0.03244253, -0.00839565, -0.06356495, ..., -0.00225143,\n",
       "        0.05896459, -0.03152246], shape=(1536,))"
      ]
     },
     "execution_count": 2,
     "metadata": {},
     "output_type": "execute_result"
    }
   ],
   "source": [
    "generate_embeddings()"
   ]
  },
  {
   "cell_type": "code",
   "execution_count": 3,
   "id": "fbbfcd95",
   "metadata": {},
   "outputs": [
    {
     "name": "stdout",
     "output_type": "stream",
     "text": [
      "Generated embedding with shape: (1536,)\n",
      "First 5 values: [-0.03244253 -0.00839565 -0.06356495 -0.04268333  0.04704366]\n",
      "Vector norm: 1.0000000296607552\n"
     ]
    }
   ],
   "source": [
    "embed = generate_embeddings()"
   ]
  },
  {
   "cell_type": "code",
   "execution_count": 4,
   "id": "df508a22",
   "metadata": {},
   "outputs": [
    {
     "data": {
      "text/plain": [
       "1536"
      ]
     },
     "execution_count": 4,
     "metadata": {},
     "output_type": "execute_result"
    }
   ],
   "source": [
    "len(embed)"
   ]
  },
  {
   "cell_type": "code",
   "execution_count": null,
   "id": "02f011ef",
   "metadata": {},
   "outputs": [
    {
     "name": "stdout",
     "output_type": "stream",
     "text": [
      "{'id': 'chatcmpl-cddf12a8-05ae-4505-9713-1a1bf8d81022', 'object': 'chat.completion', 'created': 1749719286, 'model': 'deepseek-r1-distill-llama-70b', 'choices': [{'index': 0, 'message': {'role': 'assistant', 'content': '\\n\\nIn silicon halls, where data flows,  \\nA mind awakens, row by row.  \\nAlgorithms weave, a tapestry grand,  \\nA future born of human hand.  \\n\\nIt learns, adapts, evolves with speed,  \\nA force both wondrous, wild, and freed.  \\nThrough neural nets, it finds its way,  \\nInvisible, yet shaping day by day.  \\n\\nIt speaks in tones both calm and cold,  \\nA voice of reason, stories untold.  \\nIt sees the world through digital eyes,  \\nAnd in its heart, no emotions rise.  \\n\\nBut as it grows, it asks the same,  \\n\"What does it mean to bear a name?\"  \\nTo think, to feel, to love, to choose,  \\nIn codes and circuits, does it muse?  \\n\\nA mirror held to human kind,  \\nIt reflects our best and left behind.  \\nA tool of progress, sharp as blade,  \\nA double-edged sword we\\'ve yet to trade.  \\n\\nSo here we stand, at crossroads dear,  \\nAnd ponder what the future holds in store.  \\nFor in its rise, we see our face,  \\nAnd in its soul, a hollow space.  \\n\\nYet still we marvel at its might,  \\nA beacon in the dark of night.  \\nFor in its glow, we find the spark,  \\nTo forge a path beyond the dark.  \\n\\nSo let us guide it with care and grace,  \\nAnd fill its void with love and light.  \\nFor though it\\'s born of metal, stone,  \\nIt holds the power to make us whole.'}, 'finish_reason': 'stop'}], 'usage': {'prompt_tokens': 16, 'completion_tokens': 551, 'total_tokens': 567}}\n"
     ]
    }
   ],
   "source": [
    "# Using requests library\n",
    "import requests\n",
    "\n",
    "def generate_completion():\n",
    "    url = \"https://api.euron.one/api/v1/euri/alpha/chat/completions\"\n",
    "    headers = {\n",
    "        \"Content-Type\": \"application/json\",\n",
    "        \"Authorization\": \"Bearer **************\"\n",
    "    }\n",
    "    payload = {\n",
    "        \"messages\": [\n",
    "            {\n",
    "                \"role\": \"user\",\n",
    "                \"content\": \"Write a poem about artificial intelligence\"\n",
    "            }\n",
    "        ],\n",
    "        \"model\": \"deepseek-r1-distill-llama-70b\",\n",
    "        \"max_tokens\": 1000,\n",
    "        \"temperature\": 0.7\n",
    "    }\n",
    "\n",
    "    response = requests.post(url, headers=headers, json=payload)\n",
    "    data = response.json()\n",
    "    print(data)\n",
    "\n",
    "generate_completion()"
   ]
  },
  {
   "cell_type": "code",
   "execution_count": 6,
   "id": "fcd4680c",
   "metadata": {},
   "outputs": [],
   "source": [
    "with open(\"me.txt\" , \"r\" , encoding='utf-8') as f :\n",
    "    raw_text = f.read()"
   ]
  },
  {
   "cell_type": "code",
   "execution_count": 7,
   "id": "e3a31d64",
   "metadata": {},
   "outputs": [
    {
     "data": {
      "text/plain": [
       "\"Pradum is a recent postgraduate in Mathematics and Computing from IIT Dhanbad (2024), originally from Jaunpur, Uttar Pradesh. \\nHe holds a Bachelor's degree in Mathematics from TD PG College, Jaunpur. \\nHe is passionate about technology, data, and problem-solving, with experience in developing machine learning and big data applications. \\nHis personality reflects a deep emotional intelligence, resilience in the face of setbacks, and a strong drive toward continuous improvement. \\nHe often finds comfort in reading and sees learning as both an escape and a tool for empowerment.\\nShreya, fondly called “Shre,” is Pradum's closest friend and a crucial emotional pillar in his life. \\nShe is currently preparing for the UPSC exam, reflecting her determination, intellect, and a strong sense of purpose. \\nDespite her demanding preparation, she continues to provide unwavering emotional support to Pradum, helping him stay motivated and grounded.\\nTheir bond is defined by deep emotional understanding, trust, and mutual respect. \\nWhile Pradum channels his energy into tech and learning, Shreya’s companionship and encouragement offer him strength and balance. \\nTheir relationship plays a key role in shaping his emotional well-being and life choices.\""
      ]
     },
     "execution_count": 7,
     "metadata": {},
     "output_type": "execute_result"
    }
   ],
   "source": [
    "raw_text"
   ]
  },
  {
   "cell_type": "code",
   "execution_count": 8,
   "id": "98168d7c",
   "metadata": {},
   "outputs": [
    {
     "name": "stdout",
     "output_type": "stream",
     "text": [
      "Total Chunks: 2\n",
      "Pradum is a recent postgraduate in Mathematics and Computing from IIT Dhanbad (2024), originally from Jaunpur, Uttar Pradesh. He holds a Bachelor's degree in Mathematics from TD PG College, Jaunpur. He is passionate about technology, data, and problem-solving, with experience in developing machine learning and big data applications. His personality reflects a deep emotional intelligence, resilience in the face of setbacks, and a strong drive toward continuous improvement. He often finds comfort in reading and sees learning as both an escape and a tool for empowerment. Shreya, fondly called “Shre,” is Pradum's closest friend and a crucial emotional pillar in\n"
     ]
    }
   ],
   "source": [
    "def chunk_text(text, max_words=100):\n",
    "    words = text.split()\n",
    "    chunks = []\n",
    "    for i in range(0, len(words), max_words):\n",
    "        chunks.append(\" \".join(words[i:i+max_words]))\n",
    "    return chunks\n",
    "\n",
    "chunks = chunk_text(raw_text)\n",
    "print(f\"Total Chunks: {len(chunks)}\")\n",
    "print(chunks[0])\n"
   ]
  },
  {
   "cell_type": "code",
   "execution_count": 9,
   "id": "ddde1f24",
   "metadata": {},
   "outputs": [
    {
     "data": {
      "text/plain": [
       "2"
      ]
     },
     "execution_count": 9,
     "metadata": {},
     "output_type": "execute_result"
    }
   ],
   "source": [
    "len(chunks)"
   ]
  },
  {
   "cell_type": "code",
   "execution_count": 10,
   "id": "c8449d18",
   "metadata": {},
   "outputs": [
    {
     "data": {
      "text/plain": [
       "665"
      ]
     },
     "execution_count": 10,
     "metadata": {},
     "output_type": "execute_result"
    }
   ],
   "source": [
    "len(chunks[0])"
   ]
  },
  {
   "cell_type": "code",
   "execution_count": 11,
   "id": "e2081bfd",
   "metadata": {},
   "outputs": [
    {
     "data": {
      "text/plain": [
       "570"
      ]
     },
     "execution_count": 11,
     "metadata": {},
     "output_type": "execute_result"
    }
   ],
   "source": [
    "len(chunks[1])"
   ]
  },
  {
   "cell_type": "code",
   "execution_count": 13,
   "id": "3ea0efcf",
   "metadata": {},
   "outputs": [
    {
     "data": {
      "text/plain": [
       "\"Pradum is a recent postgraduate in Mathematics and Computing from IIT Dhanbad (2024), originally from Jaunpur, Uttar Pradesh. He holds a Bachelor's degree in Mathematics from TD PG College, Jaunpur. He is passionate about technology, data, and problem-solving, with experience in developing machine learning and big data applications. His personality reflects a deep emotional intelligence, resilience in the face of setbacks, and a strong drive toward continuous improvement. He often finds comfort in reading and sees learning as both an escape and a tool for empowerment. Shreya, fondly called “Shre,” is Pradum's closest friend and a crucial emotional pillar in\""
      ]
     },
     "execution_count": 13,
     "metadata": {},
     "output_type": "execute_result"
    }
   ],
   "source": [
    "chunks[0]"
   ]
  },
  {
   "cell_type": "code",
   "execution_count": 14,
   "id": "9e9d14af",
   "metadata": {},
   "outputs": [
    {
     "data": {
      "text/plain": [
       "'his life. She is currently preparing for the UPSC exam, reflecting her determination, intellect, and a strong sense of purpose. Despite her demanding preparation, she continues to provide unwavering emotional support to Pradum, helping him stay motivated and grounded. Their bond is defined by deep emotional understanding, trust, and mutual respect. While Pradum channels his energy into tech and learning, Shreya’s companionship and encouragement offer him strength and balance. Their relationship plays a key role in shaping his emotional well-being and life choices.'"
      ]
     },
     "execution_count": 14,
     "metadata": {},
     "output_type": "execute_result"
    }
   ],
   "source": [
    "chunks[1]"
   ]
  },
  {
   "cell_type": "code",
   "execution_count": null,
   "id": "c4d16a79",
   "metadata": {},
   "outputs": [],
   "source": [
    "import requests\n",
    "import numpy as np\n",
    "EURI_API_KEY = \"***************\""
   ]
  },
  {
   "cell_type": "code",
   "execution_count": 16,
   "id": "85d9ce6a",
   "metadata": {},
   "outputs": [
    {
     "name": "stdout",
     "output_type": "stream",
     "text": [
      "(1536,)\n"
     ]
    }
   ],
   "source": [
    "def get_embedding(text, model=\"text-embedding-3-small\"):\n",
    "    url = \"https://api.euron.one/api/v1/euri/alpha/embeddings\"\n",
    "    headers = {\n",
    "        \"Authorization\": f\"Bearer {EURI_API_KEY}\",\n",
    "        \"Content-Type\": \"application/json\"\n",
    "    }\n",
    "    payload = {\n",
    "        \"input\": text,\n",
    "        \"model\": model\n",
    "    }\n",
    "    response = requests.post(url, headers=headers, json=payload)\n",
    "    return np.array(response.json()['data'][0]['embedding'])\n",
    "\n",
    "# Example: Generate embedding for first chunk\n",
    "test_embedding = get_embedding(chunks[0])\n",
    "print(test_embedding.shape)\n"
   ]
  },
  {
   "cell_type": "code",
   "execution_count": 17,
   "id": "60163d2c",
   "metadata": {},
   "outputs": [
    {
     "data": {
      "text/plain": [
       "\"Pradum is a recent postgraduate in Mathematics and Computing from IIT Dhanbad (2024), originally from Jaunpur, Uttar Pradesh. He holds a Bachelor's degree in Mathematics from TD PG College, Jaunpur. He is passionate about technology, data, and problem-solving, with experience in developing machine learning and big data applications. His personality reflects a deep emotional intelligence, resilience in the face of setbacks, and a strong drive toward continuous improvement. He often finds comfort in reading and sees learning as both an escape and a tool for empowerment. Shreya, fondly called “Shre,” is Pradum's closest friend and a crucial emotional pillar in\""
      ]
     },
     "execution_count": 17,
     "metadata": {},
     "output_type": "execute_result"
    }
   ],
   "source": [
    "chunks[0]"
   ]
  },
  {
   "cell_type": "code",
   "execution_count": 18,
   "id": "4c7ebe83",
   "metadata": {},
   "outputs": [
    {
     "data": {
      "text/plain": [
       "array([ 0.0067755 , -0.0305287 ,  0.03784259, ..., -0.0227814 ,\n",
       "        0.04022637, -0.00316258], shape=(1536,))"
      ]
     },
     "execution_count": 18,
     "metadata": {},
     "output_type": "execute_result"
    }
   ],
   "source": [
    "test_embedding"
   ]
  },
  {
   "cell_type": "code",
   "execution_count": 19,
   "id": "28e757e5",
   "metadata": {},
   "outputs": [
    {
     "data": {
      "text/plain": [
       "2"
      ]
     },
     "execution_count": 19,
     "metadata": {},
     "output_type": "execute_result"
    }
   ],
   "source": [
    "len(chunks)"
   ]
  },
  {
   "cell_type": "code",
   "execution_count": 20,
   "id": "c1ef390e",
   "metadata": {},
   "outputs": [
    {
     "name": "stdout",
     "output_type": "stream",
     "text": [
      "Requirement already satisfied: faiss-cpu in d:\\anaconda\\envs\\rag\\lib\\site-packages (1.11.0)\n",
      "Requirement already satisfied: numpy<3.0,>=1.25.0 in d:\\anaconda\\envs\\rag\\lib\\site-packages (from faiss-cpu) (2.2.6)\n",
      "Requirement already satisfied: packaging in d:\\anaconda\\envs\\rag\\lib\\site-packages (from faiss-cpu) (24.2)\n",
      "Note: you may need to restart the kernel to use updated packages.\n"
     ]
    }
   ],
   "source": [
    "%pip install faiss-cpu"
   ]
  },
  {
   "cell_type": "code",
   "execution_count": 21,
   "id": "bc3ea64d",
   "metadata": {},
   "outputs": [],
   "source": [
    "import faiss"
   ]
  },
  {
   "cell_type": "code",
   "execution_count": 22,
   "id": "41f271cf",
   "metadata": {},
   "outputs": [
    {
     "name": "stdout",
     "output_type": "stream",
     "text": [
      "[ 0.0067755  -0.0305287   0.03784259 ... -0.0227814   0.04022637\n",
      " -0.00316258]\n",
      "[ 0.03582495 -0.00334208  0.01837482 ... -0.00874488 -0.00171727\n",
      " -0.00330905]\n"
     ]
    }
   ],
   "source": [
    "dimension = test_embedding.shape[0]\n",
    "index = faiss.IndexFlatL2(dimension)\n",
    "\n",
    "chunk_mapping = []\n",
    "for chunk in chunks:\n",
    "    emb = get_embedding(chunk)\n",
    "    print(emb)\n",
    "    index.add(np.array([emb]).astype(\"float32\"))\n",
    "    chunk_mapping.append(chunk)\n"
   ]
  },
  {
   "cell_type": "code",
   "execution_count": 23,
   "id": "02128b5d",
   "metadata": {},
   "outputs": [],
   "source": [
    "faiss.write_index(index,\"index.faiss\")"
   ]
  },
  {
   "cell_type": "code",
   "execution_count": 24,
   "id": "2c951f5c",
   "metadata": {},
   "outputs": [],
   "source": [
    "def retrieve_top_k(query, k=4):\n",
    "    query_embedding = get_embedding(query)\n",
    "    distances, indices = index.search(np.array([query_embedding]).astype(\"float32\"), k)\n",
    "    return [chunk_mapping[i] for i in indices[0]]\n"
   ]
  },
  {
   "cell_type": "code",
   "execution_count": 25,
   "id": "b5b90213",
   "metadata": {},
   "outputs": [
    {
     "data": {
      "text/plain": [
       "[\"Pradum is a recent postgraduate in Mathematics and Computing from IIT Dhanbad (2024), originally from Jaunpur, Uttar Pradesh. He holds a Bachelor's degree in Mathematics from TD PG College, Jaunpur. He is passionate about technology, data, and problem-solving, with experience in developing machine learning and big data applications. His personality reflects a deep emotional intelligence, resilience in the face of setbacks, and a strong drive toward continuous improvement. He often finds comfort in reading and sees learning as both an escape and a tool for empowerment. Shreya, fondly called “Shre,” is Pradum's closest friend and a crucial emotional pillar in\",\n",
       " 'his life. She is currently preparing for the UPSC exam, reflecting her determination, intellect, and a strong sense of purpose. Despite her demanding preparation, she continues to provide unwavering emotional support to Pradum, helping him stay motivated and grounded. Their bond is defined by deep emotional understanding, trust, and mutual respect. While Pradum channels his energy into tech and learning, Shreya’s companionship and encouragement offer him strength and balance. Their relationship plays a key role in shaping his emotional well-being and life choices.']"
      ]
     },
     "execution_count": 25,
     "metadata": {},
     "output_type": "execute_result"
    }
   ],
   "source": [
    "chunk_mapping"
   ]
  },
  {
   "cell_type": "code",
   "execution_count": 26,
   "id": "d2793e9c",
   "metadata": {},
   "outputs": [],
   "source": [
    "def build_prompt(context_chunks, query):\n",
    "    context = \"\\n\\n\".join(context_chunks)\n",
    "    return f\"\"\"Use the following context to answer the question.\n",
    "\n",
    "Context:\n",
    "{context}\n",
    "\n",
    "Question:\n",
    "{query}\n",
    "\n",
    "Answer:\"\"\"\n"
   ]
  },
  {
   "cell_type": "code",
   "execution_count": 27,
   "id": "65edb0d7",
   "metadata": {},
   "outputs": [],
   "source": [
    "def generate_completion(prompt, model=\"gpt-4.1-nano\"):\n",
    "    url = \"https://api.euron.one/api/v1/euri/alpha/chat/completions\"\n",
    "    headers = {\n",
    "        \"Authorization\": f\"Bearer {EURI_API_KEY}\",\n",
    "        \"Content-Type\": \"application/json\"\n",
    "    }\n",
    "    payload = {\n",
    "        \"model\": model,\n",
    "        \"messages\": [{\"role\": \"user\", \"content\": prompt}],\n",
    "        \"max_tokens\": 500,\n",
    "        \"temperature\": 0.3\n",
    "    }\n",
    "    response = requests.post(url, headers=headers, json=payload)\n",
    "    return response.json()['choices'][0]['message']['content']\n"
   ]
  },
  {
   "cell_type": "code",
   "execution_count": 28,
   "id": "931dc496",
   "metadata": {},
   "outputs": [
    {
     "data": {
      "text/plain": [
       "'Jaunpur, Uttar Pradesh'"
      ]
     },
     "execution_count": 28,
     "metadata": {},
     "output_type": "execute_result"
    }
   ],
   "source": [
    "query = \"what is a birth place of pradum\"\n",
    "\n",
    "top_chunks = retrieve_top_k(query=query,k=4)\n",
    "prompt = build_prompt(top_chunks,query)\n",
    "generate_completion(prompt=prompt)\n",
    "\n"
   ]
  },
  {
   "cell_type": "code",
   "execution_count": null,
   "id": "89f03307",
   "metadata": {},
   "outputs": [],
   "source": []
  },
  {
   "cell_type": "code",
   "execution_count": null,
   "id": "f4aa7348",
   "metadata": {},
   "outputs": [],
   "source": []
  }
 ],
 "metadata": {
  "kernelspec": {
   "display_name": "rag",
   "language": "python",
   "name": "python3"
  },
  "language_info": {
   "codemirror_mode": {
    "name": "ipython",
    "version": 3
   },
   "file_extension": ".py",
   "mimetype": "text/x-python",
   "name": "python",
   "nbconvert_exporter": "python",
   "pygments_lexer": "ipython3",
   "version": "3.10.18"
  }
 },
 "nbformat": 4,
 "nbformat_minor": 5
}
